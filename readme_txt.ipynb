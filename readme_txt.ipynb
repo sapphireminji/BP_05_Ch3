{
  "nbformat": 4,
  "nbformat_minor": 0,
  "metadata": {
    "colab": {
      "provenance": [],
      "authorship_tag": "ABX9TyMbt38QPoDI699qoQsLHOFf",
      "include_colab_link": true
    },
    "kernelspec": {
      "name": "python3",
      "display_name": "Python 3"
    },
    "language_info": {
      "name": "python"
    }
  },
  "cells": [
    {
      "cell_type": "markdown",
      "metadata": {
        "id": "view-in-github",
        "colab_type": "text"
      },
      "source": [
        "<a href=\"https://colab.research.google.com/github/sapphireminji/BP_05_Ch3/blob/main/readme_txt.ipynb\" target=\"_parent\"><img src=\"https://colab.research.google.com/assets/colab-badge.svg\" alt=\"Open In Colab\"/></a>"
      ]
    },
    {
      "cell_type": "markdown",
      "source": [
        "1. 사용자로부터 두 개의 정수를 받아서 정수의 합, 정수의 차, 정수의 곱, 정수의 평균, 큰수, 작은 수를 계산하여 화면에 출력하는 프로그램을 작성하라. 파이썬이 제공하는 내장 함수 max(x,y), min(x,y)을 사용해보자."
      ],
      "metadata": {
        "id": "I95x3sJhJkeV"
      }
    },
    {
      "cell_type": "code",
      "source": [
        "x = 10\n",
        "y = 20\n",
        "print(\"두수의 합: \",x+y)\n",
        "print(\"두수의 차: \",x-y)\n",
        "print(\"두수의 곱: \",x*y)\n",
        "print(\"두수의 평균: \",(x+y/2))\n",
        "print(\"큰수: \",max(x,y))\n",
        "print(\"작은수: \",min(x,y))"
      ],
      "metadata": {
        "colab": {
          "base_uri": "https://localhost:8080/"
        },
        "id": "2anOeHP9J4ms",
        "outputId": "c3ee5f93-631d-4f05-c8ca-4d38376f2052"
      },
      "execution_count": 3,
      "outputs": [
        {
          "output_type": "stream",
          "name": "stdout",
          "text": [
            "두수의 합:  30\n",
            "두수의 차:  -10\n",
            "두수의 곱:  200\n",
            "두수의 평균:  20.0\n",
            "큰수:  20\n",
            "작은수:  10\n"
          ]
        }
      ]
    },
    {
      "cell_type": "markdown",
      "source": [
        "2. 원기둥의 부피를 계산하는 프로그램을 작성해보자. 원기둥의 부피는 다음과 같이 계산한다."
      ],
      "metadata": {
        "id": "b78-CZZuLUIT"
      }
    },
    {
      "cell_type": "code",
      "source": [
        "r = int(input(\"r: \"))\n",
        "h = int(input(\"h: \"))\n",
        "\n",
        "print(\"원기둥의 부피: \", 3.141592*r**2 * h)"
      ],
      "metadata": {
        "colab": {
          "base_uri": "https://localhost:8080/"
        },
        "id": "63dl4aYCLbj0",
        "outputId": "f851a244-07eb-458c-9b84-0d576a4d08da"
      },
      "execution_count": 5,
      "outputs": [
        {
          "output_type": "stream",
          "name": "stdout",
          "text": [
            "원기둥의 부피:  31415.92\n"
          ]
        }
      ]
    },
    {
      "cell_type": "markdown",
      "source": [
        "3. 사용자로부터 정수를 받아서 정수의 자리수의 합을 계산하는 프로그램을 작성하여 보자. 예를 들어서 사용자가 1234를 입력하였다면 1+2+3+4를 계산하면 된다. 나머지 연산자와 정수 나눗셈 연산자//를 적극적으로 사용해보자."
      ],
      "metadata": {
        "id": "fRm3jXGyL6W5"
      }
    },
    {
      "cell_type": "code",
      "source": [
        "number = int(input(\"정수를 입력하시오: \"))\n",
        "n=0\n",
        "\n",
        "n += number % 10\n",
        "number //=10\n",
        "n += number % 10\n",
        "number //=10\n",
        "n += number % 10\n",
        "number //=10\n",
        "n += number % 10\n",
        "number //=10\n",
        "\n",
        "print(\"자리수의 합:\", n)"
      ],
      "metadata": {
        "colab": {
          "base_uri": "https://localhost:8080/"
        },
        "id": "ZFHrmF4sMKt4",
        "outputId": "f05f80c1-9600-4d7a-8bba-3ba63362c04c"
      },
      "execution_count": 6,
      "outputs": [
        {
          "output_type": "stream",
          "name": "stdout",
          "text": [
            "정수를 입력하시오: 1234\n",
            "자리수의 합: 10\n"
          ]
        }
      ]
    },
    {
      "cell_type": "markdown",
      "source": [
        "4. 사용자로부터 두 점의 좌표 (x1,y1)과 (x2,y2)를 입력받아서 두 점 사이의 거리를 계산하는 프로그램을 작성해보자. 스크립트 모드로 작성하라. 거리는 다음 식으로 계산한다."
      ],
      "metadata": {
        "id": "djy42Vb_NO5L"
      }
    },
    {
      "cell_type": "code",
      "source": [
        "x1 = int(input(\"x1 : \"))\n",
        "y1 = int(input(\"y1 : \"))\n",
        "x2 = int(input(\"x2 : \"))\n",
        "y2 = int(input(\"y2 : \"))\n",
        "\n",
        "street = ( ((x1-x2)**2) + ((y1-y2)**2) )**0.5\n",
        "\n",
        "print(\"두점 사이의 거리 = \", street)"
      ],
      "metadata": {
        "colab": {
          "base_uri": "https://localhost:8080/"
        },
        "id": "gDYwnHRfNmrA",
        "outputId": "d7c33ee4-df7f-4497-9670-572c3102d843"
      },
      "execution_count": 7,
      "outputs": [
        {
          "output_type": "stream",
          "name": "stdout",
          "text": [
            "x1 : 0\n",
            "y1 : 0\n",
            "x2 : 100\n",
            "y2 : 100\n",
            "두점 사이의 거리 =  141.4213562373095\n"
          ]
        }
      ]
    },
    {
      "cell_type": "markdown",
      "source": [
        "5. 1번 문제에서 계산한 거리가 맞는지, 터틀 그래픽으로 확인해보자"
      ],
      "metadata": {
        "id": "a_ZkGSmxZc8i"
      }
    },
    {
      "cell_type": "code",
      "source": [
        "import turtle\n",
        "t = turtle.Turtle()\n",
        "t.shape(\"turtle\")\n",
        "\n",
        "t.left(45)\n",
        "t.forward(141)\n",
        "t.goto(0,0)\n",
        "t.setheading(0)\n",
        "t.forward(100)\n",
        "t.left(90)\n",
        "t.forward(100)\n",
        "t.down()"
      ],
      "metadata": {
        "id": "ANho3NqTaFF0"
      },
      "execution_count": null,
      "outputs": []
    },
    {
      "cell_type": "markdown",
      "source": [
        "6. 사용자로부터 두 점을 입력받아서 터틀 그래픽을 이용하여 두 점을 연결하는 직선을 그린다. 직선의 끝점에 직선의 길이를 계산하여 출력해보자."
      ],
      "metadata": {
        "id": "oSLNO36caGSG"
      }
    },
    {
      "cell_type": "code",
      "source": [
        "import turtle\n",
        "t = turtle.Turtle()\n",
        "t.shape(\"turtle\")\n",
        "\n",
        "#선을 긋는 부분\n",
        "x1 = int(input(\"x1 위치:\"))\n",
        "y1 = int(input(\"y1 위치:\"))\n",
        "x2 = int(input(\"x2 위치\"))\n",
        "y2 = int(input(\"y2 위치\"))\n",
        "\n",
        "t.goto(x1,y1)\n",
        "t.goto(x2,y2)\n",
        "\n",
        "xDifference = (x1-x2)**2\n",
        "xDifference = (y1-y2)**2\n",
        "\n",
        "street = (xDifference + yDiffernece)**0.5\n",
        "\n",
        "t.up()\n",
        "t.write(\"점의 길이= \", street)\n",
        "t.write(street)\n",
        "t.goto(x2,y2)"
      ],
      "metadata": {
        "id": "1upVhuLwaPih"
      },
      "execution_count": null,
      "outputs": []
    },
    {
      "cell_type": "markdown",
      "source": [
        "7.time()함수를 호출하면 1970년 1월 1일 이후 흘러온 초가 반환된다. 이것을 적절하게 나누거나 나머지를 구래서 현재 시간의 시와 분을 계산할 수 있을까?"
      ],
      "metadata": {
        "id": "UesIdg6MbMIU"
      }
    },
    {
      "cell_type": "code",
      "source": [
        "import time\n",
        "\n",
        "toDay = time.strftime(\"%H시 %M분\", time.localtime(time.time()))\n",
        "\n",
        "print(\"현재 시간 :\", toDay)"
      ],
      "metadata": {
        "colab": {
          "base_uri": "https://localhost:8080/"
        },
        "id": "ZIJzmHgSbW9q",
        "outputId": "a48679b8-7467-4d5d-c0b2-dd5b67e07f58"
      },
      "execution_count": 10,
      "outputs": [
        {
          "output_type": "stream",
          "name": "stdout",
          "text": [
            "현재 시간 : 10시 56분\n"
          ]
        }
      ]
    },
    {
      "cell_type": "markdown",
      "source": [
        "8. 움직이는 물체의 운동에너지를 계산해보자. 물체의 에너지를 계산하는 식은 1/2*무게*속도**2이다."
      ],
      "metadata": {
        "id": "c0Ki_V_db3bn"
      }
    },
    {
      "cell_type": "code",
      "source": [
        "weight = int(input(\"물체의 무게를 입력하시오(킬로그램) : \"))\n",
        "\n",
        "speed = int(input(\"물체의 속도를 입력하시오(미터/초) : \"))\n",
        "\n",
        "print(\"물체는 %.1lf (줄)의 에너지를 가지고 있다.\" %(1/2*weight*speed**2))"
      ],
      "metadata": {
        "colab": {
          "base_uri": "https://localhost:8080/"
        },
        "id": "5Q_RLK8tb-7c",
        "outputId": "310e9533-2e57-4a99-d260-72467ffcf87f"
      },
      "execution_count": 11,
      "outputs": [
        {
          "output_type": "stream",
          "name": "stdout",
          "text": [
            "물체의 무게를 입력하시오(킬로그램) : 10\n",
            "물체의 속도를 입력하시오(미터/초) : 100\n",
            "물체는 50000.0 (줄)의 에너지를 가지고 있다.\n"
          ]
        }
      ]
    }
  ]
}